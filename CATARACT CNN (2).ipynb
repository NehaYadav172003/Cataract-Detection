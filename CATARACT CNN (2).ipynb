{
 "cells": [
  {
   "cell_type": "code",
   "execution_count": 3,
   "id": "7eef8d2e",
   "metadata": {},
   "outputs": [],
   "source": [
    "%matplotlib inline\n",
    "\n",
    "import numpy as np\n",
    "import pandas as pd\n",
    "from keras.preprocessing.image import ImageDataGenerator #augment  images\n",
    "from keras.models import Model\n",
    "from keras.layers import Input, Flatten, Dense\n",
    "from keras.callbacks import Callback, ModelCheckpoint # to get a view on internal states and statistics of the model during training\n",
    "#define where to checkpoint the model weights, how to name the file\n",
    "from keras.applications.vgg16 import VGG16 #Very Deep Convolutional Networks\n",
    "from keras.preprocessing import image\n",
    "from keras.applications.vgg16 import preprocess_input\n",
    "\n",
    "import warnings\n",
    "warnings.filterwarnings('ignore')"
   ]
  },
  {
   "cell_type": "code",
   "execution_count": 4,
   "id": "caa12dbe",
   "metadata": {},
   "outputs": [
    {
     "name": "stdout",
     "output_type": "stream",
     "text": [
      "WARNING:tensorflow:From C:\\Users\\DELL\\AppData\\Roaming\\Python\\Python311\\site-packages\\keras\\src\\backend.py:1398: The name tf.executing_eagerly_outside_functions is deprecated. Please use tf.compat.v1.executing_eagerly_outside_functions instead.\n",
      "\n",
      "WARNING:tensorflow:From C:\\Users\\DELL\\AppData\\Roaming\\Python\\Python311\\site-packages\\keras\\src\\layers\\pooling\\max_pooling2d.py:161: The name tf.nn.max_pool is deprecated. Please use tf.nn.max_pool2d instead.\n",
      "\n"
     ]
    }
   ],
   "source": [
    "model_vgg16_conv = VGG16(weights='imagenet', include_top=False)"
   ]
  },
  {
   "cell_type": "code",
   "execution_count": 5,
   "id": "9f2df856",
   "metadata": {},
   "outputs": [],
   "source": [
    "for layer in model_vgg16_conv.layers:\n",
    "    layer.trainable = False"
   ]
  },
  {
   "cell_type": "code",
   "execution_count": 6,
   "id": "f247d934",
   "metadata": {},
   "outputs": [],
   "source": [
    "img_width, img_height = 150, 150\n",
    "train_data_dir = \"C:/Users/DELL/Downloads/cataract/processed_images/train\"\n",
    "val_data_dir = \"C:/Users/DELL/Downloads/cataract/processed_images/train\"\n",
    "model_weights_file = 'vgg16-xfer-weights.h5'\n",
    "nb_train_samples = 4\n",
    "nb_val_samples = 4\n",
    "nb_epochs = 5"
   ]
  },
  {
   "cell_type": "code",
   "execution_count": 7,
   "id": "de99a570",
   "metadata": {},
   "outputs": [
    {
     "name": "stdout",
     "output_type": "stream",
     "text": [
      "WARNING:tensorflow:From C:\\Users\\DELL\\AppData\\Roaming\\Python\\Python311\\site-packages\\keras\\src\\optimizers\\__init__.py:309: The name tf.train.Optimizer is deprecated. Please use tf.compat.v1.train.Optimizer instead.\n",
      "\n"
     ]
    }
   ],
   "source": [
    "input = Input(shape=(img_width, img_height, 3))\n",
    "output_vgg16_conv = model_vgg16_conv(input)\n",
    "x = Flatten()(output_vgg16_conv)\n",
    "x = Dense(64, activation='relu')(x)\n",
    "x = Dense(2, activation='softmax')(x)\n",
    "model = Model(input, x)\n",
    "\n",
    "model.compile(loss='categorical_crossentropy', optimizer='rmsprop', metrics=['accuracy'])"
   ]
  },
  {
   "cell_type": "code",
   "execution_count": 8,
   "id": "9a032ce8",
   "metadata": {},
   "outputs": [
    {
     "name": "stdout",
     "output_type": "stream",
     "text": [
      "Found 491 images belonging to 2 classes.\n",
      "Found 491 images belonging to 2 classes.\n"
     ]
    }
   ],
   "source": [
    "train_datagen = ImageDataGenerator(rescale=1./255, shear_range=0.2, zoom_range=0.2, horizontal_flip=True)\n",
    "test_datagen = ImageDataGenerator(rescale=1./255)\n",
    "#augment  images\n",
    "train_generator = train_datagen.flow_from_directory(train_data_dir, target_size=(img_width, img_height),\n",
    "                                                    batch_size=4, class_mode='categorical')\n",
    "validation_generator = test_datagen.flow_from_directory(val_data_dir, target_size=(img_width, img_height),\n",
    "                                                        batch_size=4,class_mode='categorical')"
   ]
  },
  {
   "cell_type": "code",
   "execution_count": 9,
   "id": "408ea0bd",
   "metadata": {},
   "outputs": [
    {
     "name": "stdout",
     "output_type": "stream",
     "text": [
      "Epoch 1/5\n",
      "WARNING:tensorflow:From C:\\Users\\DELL\\AppData\\Roaming\\Python\\Python311\\site-packages\\keras\\src\\utils\\tf_utils.py:492: The name tf.ragged.RaggedTensorValue is deprecated. Please use tf.compat.v1.ragged.RaggedTensorValue instead.\n",
      "\n",
      "WARNING:tensorflow:From C:\\Users\\DELL\\AppData\\Roaming\\Python\\Python311\\site-packages\\keras\\src\\engine\\base_layer_utils.py:384: The name tf.executing_eagerly_outside_functions is deprecated. Please use tf.compat.v1.executing_eagerly_outside_functions instead.\n",
      "\n",
      "123/123 [==============================] - ETA: 0s - loss: 0.5070 - accuracy: 0.8086WARNING:tensorflow:Can save best model only with val_acc available, skipping.\n",
      "123/123 [==============================] - 136s 1s/step - loss: 0.5070 - accuracy: 0.8086 - val_loss: 0.3199 - val_accuracy: 0.8391\n",
      "Epoch 2/5\n",
      "123/123 [==============================] - ETA: 0s - loss: 0.3245 - accuracy: 0.8697WARNING:tensorflow:Can save best model only with val_acc available, skipping.\n",
      "123/123 [==============================] - 130s 1s/step - loss: 0.3245 - accuracy: 0.8697 - val_loss: 0.2273 - val_accuracy: 0.9022\n",
      "Epoch 3/5\n",
      "123/123 [==============================] - ETA: 0s - loss: 0.2478 - accuracy: 0.9043WARNING:tensorflow:Can save best model only with val_acc available, skipping.\n",
      "123/123 [==============================] - 140s 1s/step - loss: 0.2478 - accuracy: 0.9043 - val_loss: 0.1666 - val_accuracy: 0.9308\n",
      "Epoch 4/5\n",
      "123/123 [==============================] - ETA: 0s - loss: 0.1977 - accuracy: 0.9165WARNING:tensorflow:Can save best model only with val_acc available, skipping.\n",
      "123/123 [==============================] - 134s 1s/step - loss: 0.1977 - accuracy: 0.9165 - val_loss: 0.2703 - val_accuracy: 0.9104\n",
      "Epoch 5/5\n",
      "123/123 [==============================] - ETA: 0s - loss: 0.1641 - accuracy: 0.9389WARNING:tensorflow:Can save best model only with val_acc available, skipping.\n",
      "123/123 [==============================] - 132s 1s/step - loss: 0.1641 - accuracy: 0.9389 - val_loss: 0.1054 - val_accuracy: 0.9633\n",
      "Training Completed!\n"
     ]
    }
   ],
   "source": [
    "callbacks = [ModelCheckpoint(model_weights_file, monitor='val_acc', save_best_only=True)]\n",
    "\n",
    "history = model.fit_generator( train_generator, epochs=5, callbacks = callbacks, validation_data=validation_generator)\n",
    "print('Training Completed!')"
   ]
  },
  {
   "cell_type": "code",
   "execution_count": 10,
   "id": "d14795a7",
   "metadata": {},
   "outputs": [
    {
     "name": "stdout",
     "output_type": "stream",
     "text": [
      "Input Shape: (1, 150, 150, 3)\n",
      "1/1 [==============================] - 1s 728ms/step\n",
      "Predicted Array: [[0.92029595 0.07970409]]\n",
      "Predicted Label: normal\n"
     ]
    }
   ],
   "source": [
    "from keras.preprocessing import image\n",
    "from keras.applications.vgg16 import preprocess_input, decode_predictions\n",
    "import numpy as np\n",
    "\n",
    "\n",
    "\n",
    "img_path = \"C:/Users/DELL/Downloads/cataract/processed_images/test/normal/image_298.png\"\n",
    "label = ['normal', 'cataract']\n",
    "\n",
    "img = image.load_img(img_path, target_size=(150, 150))\n",
    "x = image.img_to_array(img)\n",
    "x = np.expand_dims(x, axis=0)\n",
    "x = preprocess_input(x)\n",
    "\n",
    "print('Input Shape:', x.shape)\n",
    "\n",
    "features = model.predict(x)\n",
    "\n",
    "print('Predicted Array:', features)\n",
    "\n",
    "if features.size > 0:\n",
    "    ind = np.argmax(features)  # Using np.argmax instead of np.where\n",
    "    print('Predicted Label:', label[ind])\n",
    "else:\n",
    "    print('No predictions were made.')\n",
    "\n",
    "\n"
   ]
  },
  {
   "cell_type": "code",
   "execution_count": 17,
   "id": "160d15b6",
   "metadata": {},
   "outputs": [
    {
     "name": "stdout",
     "output_type": "stream",
     "text": [
      "Input Shape: (1, 150, 150, 3)\n",
      "1/1 [==============================] - 0s 218ms/step\n",
      "Predicted Array: [[9.660223e-38 1.000000e+00]]\n",
      "Predicted Label: cataract\n"
     ]
    }
   ],
   "source": [
    "from keras.preprocessing import image\n",
    "from keras.applications.vgg16 import preprocess_input, decode_predictions\n",
    "import numpy as np\n",
    "\n",
    "\n",
    "\n",
    "img_path = \"C:/Users/DELL/Downloads/cataract/processed_images/test/cataract/image_263.png\"\n",
    "label = ['normal', 'cataract']\n",
    "\n",
    "img = image.load_img(img_path, target_size=(150, 150))\n",
    "x = image.img_to_array(img)\n",
    "x = np.expand_dims(x, axis=0)\n",
    "x = preprocess_input(x)\n",
    "\n",
    "print('Input Shape:', x.shape)\n",
    "\n",
    "features = model.predict(x)\n",
    "\n",
    "print('Predicted Array:', features)\n",
    "\n",
    "if features.size > 0:\n",
    "    ind = np.argmax(features)  # Using np.argmax instead of np.where\n",
    "    print('Predicted Label:', label[ind])\n",
    "else:\n",
    "    print('No predictions were made.')\n",
    "\n",
    "\n"
   ]
  },
  {
   "cell_type": "code",
   "execution_count": 11,
   "id": "e5b40709",
   "metadata": {},
   "outputs": [
    {
     "name": "stdout",
     "output_type": "stream",
     "text": [
      "Input Shape: (1, 150, 150, 3)\n",
      "1/1 [==============================] - 0s 223ms/step\n",
      "Predicted Array: [[1.0000000e+00 1.0627655e-12]]\n",
      "Predicted Label: normal\n"
     ]
    }
   ],
   "source": [
    "from keras.preprocessing import image\n",
    "from keras.applications.vgg16 import preprocess_input, decode_predictions\n",
    "import numpy as np\n",
    "\n",
    "\n",
    "\n",
    "img_path = \"C:/Users/DELL/Downloads/cataract/processed_images/test/normal/test.jpg\"\n",
    "label = ['normal', 'cataract']\n",
    "\n",
    "img = image.load_img(img_path, target_size=(150, 150))\n",
    "x = image.img_to_array(img)\n",
    "x = np.expand_dims(x, axis=0)\n",
    "x = preprocess_input(x)\n",
    "\n",
    "print('Input Shape:', x.shape)\n",
    "\n",
    "features = model.predict(x)\n",
    "\n",
    "print('Predicted Array:', features)\n",
    "\n",
    "if features.size > 0:\n",
    "    ind = np.argmax(features)  # Using np.argmax instead of np.where\n",
    "    print('Predicted Label:', label[ind])\n",
    "else:\n",
    "    print('No predictions were made.')\n"
   ]
  },
  {
   "cell_type": "code",
   "execution_count": 13,
   "id": "98a8c96e",
   "metadata": {},
   "outputs": [
    {
     "name": "stdout",
     "output_type": "stream",
     "text": [
      "Input Shape: (1, 150, 150, 3)\n",
      "1/1 [==============================] - 0s 217ms/step\n",
      "Predicted Array: [[1.6202761e-09 1.0000000e+00]]\n",
      "Predicted Label: normal\n"
     ]
    }
   ],
   "source": [
    "from keras.preprocessing import image\n",
    "from keras.applications.vgg16 import preprocess_input, decode_predictions\n",
    "import numpy as np\n",
    "\n",
    "\n",
    "\n",
    "img_path = \"C:/Users/DELL/Downloads/cataract/processed_images/test/normal/testvasu.jpg\"\n",
    "label = ['cataract', 'normal']\n",
    "\n",
    "img = image.load_img(img_path, target_size=(150, 150))\n",
    "x = image.img_to_array(img)\n",
    "x = np.expand_dims(x, axis=0)\n",
    "x = preprocess_input(x)\n",
    "\n",
    "print('Input Shape:', x.shape)\n",
    "\n",
    "features = model.predict(x)\n",
    "\n",
    "print('Predicted Array:', features)\n",
    "\n",
    "if features.size > 0:\n",
    "    ind = np.argmax(features)  # Using np.argmax instead of np.where\n",
    "    print('Predicted Label:', label[ind])\n",
    "else:\n",
    "    print('No predictions were made.')\n"
   ]
  },
  {
   "cell_type": "code",
   "execution_count": 16,
   "id": "42f4d889",
   "metadata": {},
   "outputs": [
    {
     "name": "stdout",
     "output_type": "stream",
     "text": [
      "Input Shape: (1, 150, 150, 3)\n",
      "1/1 [==============================] - 0s 237ms/step\n",
      "Predicted Array: [[1. 0.]]\n",
      "Predicted Label: normal\n"
     ]
    }
   ],
   "source": [
    "from keras.preprocessing import image\n",
    "from keras.applications.vgg16 import preprocess_input, decode_predictions\n",
    "import numpy as np\n",
    "\n",
    "\n",
    "\n",
    "img_path = \"C:/Users/DELL/Downloads/cataract/processed_images/test/cataract/download.jpeg\"\n",
    "label = ['normal', 'cataract']\n",
    "\n",
    "img = image.load_img(img_path, target_size=(150, 150))\n",
    "x = image.img_to_array(img)\n",
    "x = np.expand_dims(x, axis=0)\n",
    "x = preprocess_input(x)\n",
    "\n",
    "print('Input Shape:', x.shape)\n",
    "\n",
    "features = model.predict(x)\n",
    "\n",
    "print('Predicted Array:', features)\n",
    "\n",
    "if features.size > 0:\n",
    "    ind = np.argmax(features)  # Using np.argmax instead of np.where\n",
    "    print('Predicted Label:', label[ind])\n",
    "else:\n",
    "    print('No predictions were made.')\n"
   ]
  },
  {
   "cell_type": "code",
   "execution_count": null,
   "id": "2e508a52",
   "metadata": {},
   "outputs": [],
   "source": []
  }
 ],
 "metadata": {
  "kernelspec": {
   "display_name": "Python 3 (ipykernel)",
   "language": "python",
   "name": "python3"
  },
  "language_info": {
   "codemirror_mode": {
    "name": "ipython",
    "version": 3
   },
   "file_extension": ".py",
   "mimetype": "text/x-python",
   "name": "python",
   "nbconvert_exporter": "python",
   "pygments_lexer": "ipython3",
   "version": "3.11.5"
  }
 },
 "nbformat": 4,
 "nbformat_minor": 5
}
